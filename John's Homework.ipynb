{
 "metadata": {
  "name": "John's Homework"
 },
 "nbformat": 3,
 "nbformat_minor": 0,
 "worksheets": [
  {
   "cells": [
    {
     "cell_type": "markdown",
     "metadata": {},
     "source": [
      "John's Project\n",
      "==============\n",
      "\n",
      "Freight transport homework project.\n",
      "\n"
     ]
    }
   ],
   "metadata": {}
  }
 ]
}