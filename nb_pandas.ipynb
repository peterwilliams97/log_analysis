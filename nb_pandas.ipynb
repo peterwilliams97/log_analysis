{
 "metadata": {
  "name": "nb_pandas"
 },
 "nbformat": 3,
 "nbformat_minor": 0,
 "worksheets": [
  {
   "cells": [
    {
     "cell_type": "code",
     "collapsed": false,
     "input": [
      "from __future__ import division\n",
      "import re, sys, glob \n",
      "import pandas as pd\n",
      "from pandas import DataFrame, Series, Timestamp, DateOffset\n",
      "import matplotlib as mpl"
     ],
     "language": "python",
     "metadata": {},
     "outputs": [],
     "prompt_number": 1
    },
    {
     "cell_type": "code",
     "collapsed": false,
     "input": [
      "print 'python:', sys.version\n",
      "print 'numpy:', np.__version__\n",
      "print 'matplotlib:', mpl.__version__\n",
      "print 'pandas:', pd.__version__"
     ],
     "language": "python",
     "metadata": {},
     "outputs": [
      {
       "output_type": "stream",
       "stream": "stdout",
       "text": [
        "1.7.0\n",
        "python: 2.7.3 |Anaconda 1.4.0 (64-bit)| (default, Feb 25 2013, 18:41:24) [MSC v.1500 64 bit (AMD64)]\n",
        "numpy: 1.7.0\n",
        "matplotlib: 1.2.0\n",
        "pandas: 0.11.0\n"
       ]
      }
     ],
     "prompt_number": 4
    },
    {
     "cell_type": "code",
     "collapsed": false,
     "input": [
      "def print_row(df, ts):\n",
      "    eix = df.ix\n",
      "    msg = '%s:%d - %s' % (eix[ts, 'file'], eix[ts, 'line'], eix[ts, 'content'])\n",
      "    print ('%s %-5s %s [%s]' % (ts,  eix[ts, 'level'], msg, eix[ts, 'thread']))[:160]"
     ],
     "language": "python",
     "metadata": {},
     "outputs": []
    },
    {
     "cell_type": "markdown",
     "metadata": {},
     "source": [
      "Load the saved server logs \n",
      "--------------------------\n",
      "The logs were previously parsed and read into a pandas DataFrame.\n",
      "\n",
      "The DataFrame was saved in an HDF5 file called `server_logs.h5`.\n",
      "\n",
      "We now reload that DataFrame."
     ]
    },
    {
     "cell_type": "code",
     "collapsed": false,
     "input": [
      "df = pd.read_hdf('server_logs.h5', 'table')"
     ],
     "language": "python",
     "metadata": {},
     "outputs": [],
     "prompt_number": 15
    },
    {
     "cell_type": "markdown",
     "metadata": {},
     "source": [
      "In IPython, typing a variable name prints it. You can see this in the following frame.\n",
      "\n",
      "df is indexed by timestamp. We see that the timestamps range from `2013-04-22 02:40:43.261000` to `2013-04-26 09:00:00.029000`. Note that we have increased the timestamp precision to microseconds (\u00b5sec).\n",
      "\n",
      "df has `8595` entries."
     ]
    },
    {
     "cell_type": "code",
     "collapsed": false,
     "input": [
      "df"
     ],
     "language": "python",
     "metadata": {},
     "outputs": [
      {
       "html": [
        "<pre>\n",
        "&ltclass 'pandas.core.frame.DataFrame'&gt\n",
        "DatetimeIndex: 8595 entries, 2013-04-22 02:40:43.261000 to 2013-04-26 09:00:00.029000\n",
        "Data columns (total 7 columns):\n",
        "logfile    8595  non-null values\n",
        "logline    8595  non-null values\n",
        "level      8595  non-null values\n",
        "file       8595  non-null values\n",
        "line       8595  non-null values\n",
        "content    8595  non-null values\n",
        "thread     8595  non-null values\n",
        "dtypes: int64(2), object(5)\n",
        "</pre>"
       ],
       "output_type": "pyout",
       "prompt_number": 14,
       "text": [
        "<class 'pandas.core.frame.DataFrame'>\n",
        "DatetimeIndex: 8595 entries, 2013-04-22 02:40:43.261000 to 2013-04-26 09:00:00.029000\n",
        "Data columns (total 7 columns):\n",
        "logfile    8595  non-null values\n",
        "logline    8595  non-null values\n",
        "level      8595  non-null values\n",
        "file       8595  non-null values\n",
        "line       8595  non-null values\n",
        "content    8595  non-null values\n",
        "thread     8595  non-null values\n",
        "dtypes: int64(2), object(5)"
       ]
      }
     ],
     "prompt_number": 14
    },
    {
     "cell_type": "markdown",
     "metadata": {},
     "source": [
      "The columns of the DataFrame are `logfile`, `logline`, `level`, `file`, `line`, `content`, `thread`. \n",
      "\n",
      "You can obtain them as a pandas index like this ..."
     ]
    },
    {
     "cell_type": "code",
     "collapsed": false,
     "input": [
      "df.columns"
     ],
     "language": "python",
     "metadata": {},
     "outputs": [
      {
       "output_type": "pyout",
       "prompt_number": 16,
       "text": [
        "Index([logfile, logline, level, file, line, content, thread], dtype=object)"
       ]
      }
     ],
     "prompt_number": 16
    },
    {
     "cell_type": "markdown",
     "metadata": {},
     "source": [
      "... and as a python list like this ..."
     ]
    },
    {
     "cell_type": "code",
     "collapsed": false,
     "input": [
      "list(df.columns)"
     ],
     "language": "python",
     "metadata": {},
     "outputs": [
      {
       "output_type": "pyout",
       "prompt_number": 18,
       "text": [
        "['logfile', 'logline', 'level', 'file', 'line', 'content', 'thread']"
       ]
      }
     ],
     "prompt_number": 18
    },
    {
     "cell_type": "markdown",
     "metadata": {},
     "source": [
      "The values of level seen in the logs are given by ..."
     ]
    },
    {
     "cell_type": "code",
     "collapsed": false,
     "input": [
      "df.level.unique()"
     ],
     "language": "python",
     "metadata": {},
     "outputs": [
      {
       "output_type": "pyout",
       "prompt_number": 19,
       "text": [
        "array(['ERROR', 'INFO', 'DEBUG'], dtype=object)"
       ]
      }
     ],
     "prompt_number": 19
    },
    {
     "cell_type": "code",
     "collapsed": false,
     "input": [
      "levels = df.level.unique()\n",
      "for level in levels:\n",
      "    print '%-5s : %5d' % (level, len(df[df.level==level]))\n",
      "print 'We hope %d == %d' % (len(df), sum(len(df[df.level==level]) for level in levels)) "
     ],
     "language": "python",
     "metadata": {},
     "outputs": [
      {
       "output_type": "stream",
       "stream": "stdout",
       "text": [
        "ERROR :  3806\n",
        "INFO  :   414\n",
        "DEBUG :  4375\n",
        "We hope 8595 == 8595\n"
       ]
      }
     ],
     "prompt_number": 23
    },
    {
     "cell_type": "code",
     "collapsed": false,
     "input": [
      "for level in levels:\n",
      "    bars = df[df.level==level].logfile.resample('60min', how='count')\n",
      "    bars.plot(label=level)\n",
      "legend()    "
     ],
     "language": "python",
     "metadata": {},
     "outputs": [
      {
       "output_type": "pyout",
       "prompt_number": 26,
       "text": [
        "<matplotlib.legend.Legend at 0xb3bd160>"
       ]
      },
      {
       "output_type": "display_data",
       "png": "[encoded data removed]"
      }
     ],
     "prompt_number": 26
    },
    {
     "cell_type": "code",
     "collapsed": false,
     "input": [
      "df[['level', 'content']].head()"
     ],
     "language": "python",
     "metadata": {},
     "outputs": [
      {
       "html": [
        "<pre>\n",
        "&ltclass 'pandas.core.frame.DataFrame'&gt\n",
        "DatetimeIndex: 5 entries, 2013-04-22 02:40:43.261000 to 2013-04-22 02:41:14.924000\n",
        "Data columns (total 2 columns):\n",
        "level      5  non-null values\n",
        "content    5  non-null values\n",
        "dtypes: object(2)\n",
        "</pre>"
       ],
       "output_type": "pyout",
       "prompt_number": 9,
       "text": [
        "                            level  \\\n",
        "timestamp                           \n",
        "2013-04-22 02:40:43.261000  ERROR   \n",
        "2013-04-22 02:40:43.262000  ERROR   \n",
        "2013-04-22 02:40:43.263000  ERROR   \n",
        "2013-04-22 02:40:54.923000  ERROR   \n",
        "2013-04-22 02:41:14.924000  ERROR   \n",
        "\n",
        "                                                                      content  \n",
        "timestamp                                                                      \n",
        "2013-04-22 02:40:43.261000  An attempt by a client to checkout a Connectio...  \n",
        "2013-04-22 02:40:43.262000  An attempt by a client to checkout a Connectio...  \n",
        "2013-04-22 02:40:43.263000                Error fetching inactivity timeout.   \n",
        "2013-04-22 02:40:54.923000  Database connection test - error: Network erro...  \n",
        "2013-04-22 02:41:14.924000  Error occurred recently while acquiring DB con...  "
       ]
      }
     ],
     "prompt_number": 9
    },
    {
     "cell_type": "code",
     "collapsed": false,
     "input": [
      "df.level.head()"
     ],
     "language": "python",
     "metadata": {},
     "outputs": [
      {
       "output_type": "pyout",
       "prompt_number": 10,
       "text": [
        "timestamp\n",
        "2013-04-22 02:40:43.261000    ERROR\n",
        "2013-04-22 02:40:43.262000    ERROR\n",
        "2013-04-22 02:40:43.263000    ERROR\n",
        "2013-04-22 02:40:54.923000    ERROR\n",
        "2013-04-22 02:41:14.924000    ERROR\n",
        "Name: level, dtype: object"
       ]
      }
     ],
     "prompt_number": 10
    },
    {
     "cell_type": "code",
     "collapsed": false,
     "input": [
      "df.content.head()"
     ],
     "language": "python",
     "metadata": {},
     "outputs": [
      {
       "output_type": "pyout",
       "prompt_number": 11,
       "text": [
        "timestamp\n",
        "2013-04-22 02:40:43.261000    An attempt by a client to checkout a Connectio...\n",
        "2013-04-22 02:40:43.262000    An attempt by a client to checkout a Connectio...\n",
        "2013-04-22 02:40:43.263000                  Error fetching inactivity timeout. \n",
        "2013-04-22 02:40:54.923000    Database connection test - error: Network erro...\n",
        "2013-04-22 02:41:14.924000    Error occurred recently while acquiring DB con...\n",
        "Name: content, dtype: object"
       ]
      }
     ],
     "prompt_number": 11
    },
    {
     "cell_type": "markdown",
     "metadata": {},
     "source": [
      "Show all values of level"
     ]
    },
    {
     "cell_type": "code",
     "collapsed": false,
     "input": [
      "df.level.unique()"
     ],
     "language": "python",
     "metadata": {},
     "outputs": [
      {
       "output_type": "pyout",
       "prompt_number": 12,
       "text": [
        "array(['ERROR', 'INFO', 'DEBUG'], dtype=object)"
       ]
      }
     ],
     "prompt_number": 12
    },
    {
     "cell_type": "code",
     "collapsed": false,
     "input": [
      "df.index.describe()"
     ],
     "language": "python",
     "metadata": {},
     "outputs": [
      {
       "ename": "AttributeError",
       "evalue": "'DatetimeIndex' object has no attribute 'describe'",
       "output_type": "pyerr",
       "traceback": [
        "\u001b[1;31m---------------------------------------------------------------------------\u001b[0m\n\u001b[1;31mAttributeError\u001b[0m                            Traceback (most recent call last)",
        "\u001b[1;32m<ipython-input-13-be0390460d77>\u001b[0m in \u001b[0;36m<module>\u001b[1;34m()\u001b[0m\n\u001b[1;32m----> 1\u001b[1;33m \u001b[0mdf\u001b[0m\u001b[1;33m.\u001b[0m\u001b[0mindex\u001b[0m\u001b[1;33m.\u001b[0m\u001b[0mdescribe\u001b[0m\u001b[1;33m(\u001b[0m\u001b[1;33m)\u001b[0m\u001b[1;33m\u001b[0m\u001b[0m\n\u001b[0m",
        "\u001b[1;31mAttributeError\u001b[0m: 'DatetimeIndex' object has no attribute 'describe'"
       ]
      }
     ],
     "prompt_number": 13
    }
   ],
   "metadata": {}
  }
 ]
}